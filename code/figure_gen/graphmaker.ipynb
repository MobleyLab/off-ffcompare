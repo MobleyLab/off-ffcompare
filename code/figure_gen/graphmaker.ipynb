{
 "cells": [
  {
   "cell_type": "markdown",
   "metadata": {},
   "source": [
    "This is the ipython notebook used to generate the figure showing distribution of TanimotoCombo and TFD scores for a selection of molecule pairs. \n",
    "\n",
    "Created by Jordan Ehrman for the OpenForceField Force Field Comparison Project"
   ]
  },
  {
   "cell_type": "code",
   "execution_count": 1,
   "metadata": {},
   "outputs": [],
   "source": [
    "# importing\n",
    "import os\n",
    "import pandas as pd\n",
    "from itertools import permutations"
   ]
  },
  {
   "cell_type": "code",
   "execution_count": 3,
   "metadata": {},
   "outputs": [],
   "source": [
    "# Taking pairwise combinations of force fields\n",
    "ffs = ['GAFF','GAFF2','MMFF94','MMFF94S','SMIRNOFF']\n",
    "perms = permutations(ffs,2)\n",
    "perms = list(perms)"
   ]
  },
  {
   "cell_type": "code",
   "execution_count": 5,
   "metadata": {},
   "outputs": [],
   "source": [
    "# Creating long lists of TFD and TanimotoCombo scores (stored in csv's)\n",
    "bigdf = pd.read_csv('alldatai.csv')\n",
    "gigantictup = []\n",
    "for j in [1,2,3]:\n",
    "    bigdf = pd.read_csv('alldata' + str(j) + '.csv')\n",
    "    bigtemptuplist = []\n",
    "    for i in perms:\n",
    "        try:\n",
    "            TFDlist = bigdf['TFD ' + i[0] + ' ' + i[1]]\n",
    "            TANIlist = bigdf['TANI ' + i[0] + ' ' + i[1]]\n",
    "            for k in range(len(TFDlist)):\n",
    "                temptup = []\n",
    "                temptup.append(TFDlist[k])\n",
    "                temptup.append(TANIlist[k])\n",
    "                bigtemptuplist.append(temptup)\n",
    "        except:\n",
    "            continue\n",
    "        print(i)\n",
    "    gigantictup.extend(bigtemptuplist)\n",
    "    print(j)"
   ]
  },
  {
   "cell_type": "code",
   "execution_count": 8,
   "metadata": {},
   "outputs": [],
   "source": [
    "# Taking a pseudorandom sample of scores (believed to be representative of entire set)\n",
    "smallertup = []\n",
    "for i in range(len(gigantictup)):\n",
    "    if i % 500 == 0:\n",
    "        smallertup.append(gigantictup[i])"
   ]
  },
  {
   "cell_type": "code",
   "execution_count": 10,
   "metadata": {},
   "outputs": [],
   "source": [
    "#breaking points up based on what scores they would get, so that I can get different colors in the graph\n",
    "noflaglist = []\n",
    "flaglist = []\n",
    "bufferlist = []\n",
    "for i in range(len(smallertup)):\n",
    "    if (smallertup[i][0] < 0.18 and smallertup[i][1] > 0.25 and smallertup[i][0] < 0.6):\n",
    "        noflaglist.append(smallertup[i])\n",
    "    elif (smallertup[i][0] > 0.2 and smallertup[i][1] > 0.50 and smallertup[i][0] < 0.6):\n",
    "        flaglist.append(smallertup[i])\n",
    "    elif (smallertup[i][0] > 0.18 and smallertup[i][0] < 0.2 and smallertup[i][1] > 0.25):\n",
    "        bufferlist.append(smallertup[i])\n",
    "    elif (smallertup[i][0] > 0.18 and smallertup[i][1] > 0.25 and smallertup[i][1] < 0.50 and smallertup[i][0] < 0.6):\n",
    "        bufferlist.append(smallertup[i])"
   ]
  },
  {
   "cell_type": "code",
   "execution_count": 11,
   "metadata": {},
   "outputs": [],
   "source": [
    "#importing for plotting\n",
    "import seaborn as sns\n",
    "import matplotlib.pyplot as plt\n",
    "import numpy as np\n",
    "import matplotlib.patches as patches\n",
    "from matplotlib.collections import PatchCollection\n",
    "from matplotlib.patches import FancyBboxPatch\n",
    "#setting parameters\n",
    "data= (noflaglist, flaglist, bufferlist)\n",
    "colors = (\"blue\",\"red\",\"black\")\n",
    "groups = (\"Similarity Flagged\",\"Difference Flagged\",\"Not Flagged\")\n",
    "plt.rcParams.update({'font.size': 15})\n",
    "# Creating plot\n",
    "fig = plt.figure()\n",
    "ax = fig.add_subplot(1, 1, 1, facecolor=\"1.0\")\n",
    "\n",
    "for data, color, group in zip(data, colors, groups):\n",
    "    x, y = zip(*data)\n",
    "    ax.scatter(x, y, alpha=1, c=color, edgecolors='none', s=2, label=group)\n",
    "\n",
    "lgnd = plt.legend(loc=\"upper right\", scatterpoints=1, fontsize=13)\n",
    "lgnd.legendHandles[0]._sizes = [60]\n",
    "lgnd.legendHandles[1]._sizes = [60]\n",
    "lgnd.legendHandles[2]._sizes = [60]\n",
    "ax.set_xlabel('Torsion Fingerprint Deviation (TFD)')\n",
    "ax.set_ylabel('TanimotoCombo')\n",
    "p_fancy=FancyBboxPatch((0.2,0.5),0.4,1.5,boxstyle=\"square,pad=0\",fc='red', ec='k',alpha=0.1, zorder=1)\n",
    "ax.add_patch(p_fancy)\n",
    "p_fancy=FancyBboxPatch((0.0,0.25),0.18,1.75,boxstyle=\"square,pad=0\",fc='blue', ec='k',alpha=0.1, zorder=1)\n",
    "ax.add_patch(p_fancy)\n",
    "plt.margins(0.00)\n",
    "fig.set_dpi(100)\n",
    "fig.set_size_inches(12, 6, forward=True)\n",
    "plt.margins(0.00)\n",
    "plt.savefig('dotdist.svg')\n",
    "fig.show()"
   ]
  }
 ],
 "metadata": {
  "kernelspec": {
   "display_name": "Python 3",
   "language": "python",
   "name": "python3"
  },
  "language_info": {
   "codemirror_mode": {
    "name": "ipython",
    "version": 3
   },
   "file_extension": ".py",
   "mimetype": "text/x-python",
   "name": "python",
   "nbconvert_exporter": "python",
   "pygments_lexer": "ipython3",
   "version": "3.5.5"
  }
 },
 "nbformat": 4,
 "nbformat_minor": 2
}
